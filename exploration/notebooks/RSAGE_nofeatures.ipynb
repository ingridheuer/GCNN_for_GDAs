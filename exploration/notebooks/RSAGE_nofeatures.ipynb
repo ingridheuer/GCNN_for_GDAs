{
  "nbformat": 4,
  "nbformat_minor": 0,
  "metadata": {
    "colab": {
      "name": "RSAGE_nofeatures.ipynb",
      "provenance": [],
      "collapsed_sections": [],
      "authorship_tag": "ABX9TyNQBmu8IXfEUZxLlHc+3adb",
      "include_colab_link": true
    },
    "kernelspec": {
      "name": "python3",
      "display_name": "Python 3"
    },
    "language_info": {
      "name": "python"
    },
    "accelerator": "GPU",
    "gpuClass": "standard"
  },
  "cells": [
    {
      "cell_type": "markdown",
      "metadata": {
        "id": "view-in-github",
        "colab_type": "text"
      },
      "source": [
        "<a href=\"https://colab.research.google.com/github/ingridheuer/GCNN_for_GDAs/blob/main/exploration/notebooks/RSAGE_nofeatures.ipynb\" target=\"_parent\"><img src=\"https://colab.research.google.com/assets/colab-badge.svg\" alt=\"Open In Colab\"/></a>"
      ]
    },
    {
      "cell_type": "markdown",
      "source": [
        "# Instalo e importo librerias"
      ],
      "metadata": {
        "id": "mdb7qExpc564"
      }
    },
    {
      "cell_type": "code",
      "source": [
        "import torch\n",
        "print(torch.__version__)\n",
        "!pip install torch-scatter torch-sparse -f https://data.pyg.org/whl/torch-{torch.__version__}.html\n",
        "!pip install -q git+https://github.com/pyg-team/pytorch_geometric.git\n",
        "!pip install -q git+https://github.com/snap-stanford/deepsnap.git"
      ],
      "metadata": {
        "id": "GTfcOHHYtk9w",
        "colab": {
          "base_uri": "https://localhost:8080/"
        },
        "outputId": "7721f95d-a656-434a-d9b3-01d5128a31d4"
      },
      "execution_count": 1,
      "outputs": [
        {
          "output_type": "stream",
          "name": "stdout",
          "text": [
            "1.11.0+cu113\n",
            "Looking in indexes: https://pypi.org/simple, https://us-python.pkg.dev/colab-wheels/public/simple/\n",
            "Looking in links: https://data.pyg.org/whl/torch-1.11.0+cu113.html\n",
            "Requirement already satisfied: torch-scatter in /usr/local/lib/python3.7/dist-packages (2.0.9)\n",
            "Requirement already satisfied: torch-sparse in /usr/local/lib/python3.7/dist-packages (0.6.13)\n",
            "Requirement already satisfied: scipy in /usr/local/lib/python3.7/dist-packages (from torch-sparse) (1.4.1)\n",
            "Requirement already satisfied: numpy>=1.13.3 in /usr/local/lib/python3.7/dist-packages (from scipy->torch-sparse) (1.21.6)\n",
            "\u001b[33mWARNING: Running pip as the 'root' user can result in broken permissions and conflicting behaviour with the system package manager. It is recommended to use a virtual environment instead: https://pip.pypa.io/warnings/venv\u001b[0m\u001b[33m\n",
            "\u001b[0m  Preparing metadata (setup.py) ... \u001b[?25l\u001b[?25hdone\n",
            "\u001b[33mWARNING: Running pip as the 'root' user can result in broken permissions and conflicting behaviour with the system package manager. It is recommended to use a virtual environment instead: https://pip.pypa.io/warnings/venv\u001b[0m\u001b[33m\n",
            "\u001b[0m  Preparing metadata (setup.py) ... \u001b[?25l\u001b[?25hdone\n",
            "\u001b[33mWARNING: Running pip as the 'root' user can result in broken permissions and conflicting behaviour with the system package manager. It is recommended to use a virtual environment instead: https://pip.pypa.io/warnings/venv\u001b[0m\u001b[33m\n",
            "\u001b[0m"
          ]
        }
      ]
    },
    {
      "cell_type": "code",
      "execution_count": 2,
      "metadata": {
        "id": "0dg9JyPWqzOA"
      },
      "outputs": [],
      "source": [
        "#Librería base de redes neuronales de torch\n",
        "#Acá están las clases \"base\" de las que heredan todos los modelos\n",
        "import torch.nn as nn\n",
        "\n",
        "#Operaciones entre sparse matrix\n",
        "from torch_sparse import matmul, SparseTensor\n",
        "\n",
        "#Librerías específicas de GNNs: \n",
        "#PYG es la libraría general de GNNs,\n",
        "#DeepSNAP tiene utilidades para el manejo de datos y grafos heterogeneos, hacer splits, negative sampling, etc.\n",
        "import torch_geometric.nn as pyg_nn\n",
        "from torch_geometric.nn import HeteroConv\n",
        "from deepsnap.dataset import GraphDataset\n",
        "import deepsnap.hetero_gnn\n",
        "from deepsnap.hetero_gnn import forward_op\n",
        "from deepsnap.hetero_graph import HeteroGraph\n",
        "from torch_geometric.utils import to_undirected\n",
        "#from torch_geometric.data import HeteroData\n",
        "\n",
        "#Para manejar los minibatches\n",
        "from torch.utils.data import DataLoader\n",
        "from deepsnap.batch import Batch\n",
        "\n",
        "from timeit import default_timer as timer\n",
        "import numpy as np\n",
        "import networkx as nx\n",
        "import matplotlib.pyplot as plt\n",
        "import pandas as pd\n",
        "import copy"
      ]
    },
    {
      "cell_type": "markdown",
      "source": [
        "# Modelo"
      ],
      "metadata": {
        "id": "HU-IKGyKdD3M"
      }
    },
    {
      "cell_type": "code",
      "source": [
        "def edgeindex_to_sparsematrix(het_graph: HeteroGraph) -> dict : \n",
        "    sparse_edge_dict = {}\n",
        "    for key in het_graph.edge_index:\n",
        "        temp_edge_index = het_graph.edge_index[key]\n",
        "        from_type = key[0]\n",
        "        to_type = key[2]\n",
        "        adj = SparseTensor(row=temp_edge_index[0], col=temp_edge_index[1], sparse_sizes=(het_graph.num_nodes(from_type), het_graph.num_nodes(to_type)))\n",
        "        sparse_edge_dict[key] = adj.t()\n",
        "    return sparse_edge_dict\n",
        "\n",
        "# %%\n",
        "debugging = False\n",
        "\n",
        "def my_debug(arg):\n",
        "    if debugging:\n",
        "        print(arg)\n",
        "#%%\n",
        "#OLD DICT STYLE\n",
        "class HeteroGNNConv(pyg_nn.MessagePassing):\n",
        "    def __init__(self, in_channels_src, in_channels_dst, out_channels):\n",
        "        super().__init__(aggr=\"mean\")\n",
        "\n",
        "        self.in_channels_src = in_channels_src\n",
        "        self.in_channels_dst = in_channels_dst\n",
        "        self.out_channels = out_channels\n",
        "        self.lin_dst = torch.nn.Linear(in_channels_dst, out_channels)\n",
        "        self.lin_src = torch.nn.Linear(in_channels_src, out_channels)\n",
        "        self.lin_update = torch.nn.Linear(2*out_channels, out_channels)\n",
        "\n",
        "    def forward(\n",
        "            self,\n",
        "            node_feature_src,\n",
        "            node_feature_dst,\n",
        "            edge_index,\n",
        "            size=None):\n",
        "\n",
        "        out = self.propagate(\n",
        "            edge_index, size, node_feature_src=node_feature_src, node_feature_dst=node_feature_dst)\n",
        "        return out\n",
        "\n",
        "    def message_and_aggregate(self, edge_index, node_feature_src):\n",
        "        out = matmul(edge_index, node_feature_src, reduce=self.aggr)\n",
        "        #my_debug(f'message_and_agregate out: {out}')\n",
        "\n",
        "        return out\n",
        "\n",
        "    def update(self, aggr_out, node_feature_dst):\n",
        "\n",
        "        dst_msg = self.lin_dst(node_feature_dst)\n",
        "        src_msg = self.lin_src(aggr_out)\n",
        "        full_msg = torch.concat((dst_msg, src_msg), dim=1)\n",
        "        out = self.lin_update(full_msg)\n",
        "        #my_debug(f'update out: {out}')\n",
        "        return out\n",
        "\n",
        "\n",
        "class HeteroGNNWrapperConv(deepsnap.hetero_gnn.HeteroConv):\n",
        "    def __init__(self, convs, args, aggr=\"mean\"):\n",
        "        super().__init__(convs, None)\n",
        "        self.aggr = aggr\n",
        "\n",
        "        # Map the index and message type\n",
        "        self.mapping = {}\n",
        "\n",
        "    def reset_parameters(self):\n",
        "        super().reset_parameters()\n",
        "\n",
        "    def forward(self, node_features, edge_indices):\n",
        "        message_type_emb = {}\n",
        "        #my_debug(f'Wrapper self convs: {self.convs}')\n",
        "        for message_key, message_type in edge_indices.items():\n",
        "            src_type, edge_type, dst_type = message_key\n",
        "            # my_debug(message_key)\n",
        "            # my_debug(node_features.shape)\n",
        "            #my_debug(f\"Input x shape: {node_features.shape}\")\n",
        "            #my_debug(f'Wrapper self conv step: {self.convs[message_key]}')\n",
        "            node_feature_src = node_features[src_type]\n",
        "            node_feature_dst = node_features[dst_type]\n",
        "            edge_index = edge_indices[message_key]\n",
        "            #my_debug(f'Wrapper message_type_emb step: {self.convs[message_key](node_feature_src,node_feature_dst,edge_index)}')\n",
        "            message_type_emb[message_key] = (\n",
        "                self.convs[message_key](\n",
        "                    node_feature_src,\n",
        "                    node_feature_dst,\n",
        "                    edge_index,\n",
        "                )\n",
        "            )\n",
        "            #my_debug(f'{message_key} emb done: {message_type_emb}')\n",
        "        node_emb = {dst: [] for _, _, dst in message_type_emb.keys()}\n",
        "        #my_debug(f'node emb: {node_emb}')\n",
        "        mapping = {}\n",
        "        for (src, edge_type, dst), item in message_type_emb.items():\n",
        "            mapping[len(node_emb[dst])] = (src, edge_type, dst)\n",
        "            node_emb[dst].append(item)\n",
        "        self.mapping = mapping\n",
        "        for node_type, embs in node_emb.items():\n",
        "            if len(embs) == 1:\n",
        "                node_emb[node_type] = embs[0]\n",
        "            else:\n",
        "                node_emb[node_type] = self.aggregate(embs)\n",
        "        #my_debug(f'node_emb from wrapper conv forward:{node_emb}')\n",
        "        return node_emb\n",
        "\n",
        "    def aggregate(self, xs):\n",
        "        return torch.mean(torch.stack(xs), dim=0)\n",
        "\n",
        "\n",
        "def generate_convs(hetero_graph, conv, hidden_size, first_layer=False):\n",
        "    convs = {}\n",
        "\n",
        "    msg_types = hetero_graph.message_types\n",
        "    for key in msg_types:\n",
        "        if first_layer:\n",
        "            dst_feature_dim = hetero_graph.num_node_features(key[2])\n",
        "            src_feature_dim = hetero_graph.num_node_features(key[0])\n",
        "            convs[key] = conv(src_feature_dim, dst_feature_dim, hidden_size)\n",
        "        else:\n",
        "            convs[key] = conv(hidden_size, hidden_size, hidden_size)\n",
        "\n",
        "    return convs\n",
        "\n",
        "\n",
        "class HeteroGNN(torch.nn.Module):\n",
        "    def __init__(self, hetero_graph_dict, args, aggr=\"mean\"):\n",
        "        super().__init__()\n",
        "\n",
        "        hetero_graph = hetero_graph_dict[\"graph\"]\n",
        "        self.aggr = aggr\n",
        "        self.hidden_size = args['hidden_size']\n",
        "        self.bns1 = torch.nn.ModuleDict()\n",
        "        self.bns2 = torch.nn.ModuleDict()\n",
        "        self.relus1 = torch.nn.ModuleDict()\n",
        "        self.relus2 = torch.nn.ModuleDict()\n",
        "        self.loss_fn = torch.nn.BCEWithLogitsLoss()\n",
        "        #self.post_mps = nn.ModuleDict()\n",
        "\n",
        "        convs1 = generate_convs(hetero_graph, HeteroGNNConv, self.hidden_size, first_layer=True)\n",
        "        #my_debug(f'convs1: {convs1}')\n",
        "        convs2 = generate_convs(hetero_graph, HeteroGNNConv, self.hidden_size, first_layer=False)\n",
        "        self.convs1 = HeteroGNNWrapperConv(convs1, args, aggr=self.aggr)\n",
        "        #my_debug(f'self.convs1: {self.convs1}')\n",
        "        self.convs2 = HeteroGNNWrapperConv(convs2, args, aggr=self.aggr)\n",
        "        for node_type in hetero_graph.node_types:\n",
        "            self.bns1[node_type] = torch.nn.BatchNorm1d(self.hidden_size)\n",
        "            self.bns2[node_type] = torch.nn.BatchNorm1d(self.hidden_size)\n",
        "            self.relus1[node_type] = torch.nn.LeakyReLU()\n",
        "            self.relus2[node_type] = torch.nn.LeakyReLU()\n",
        "\n",
        "    def forward(self, graph_dict):\n",
        "        #x, adj, edge_label_index = graph_dict[\"graph\"].node_feature, graph_dict[\"adj\"], graph_dict[\"graph\"].edge_label_index\n",
        "        x,edge_label_index = graph_dict[\"graph\"].node_feature, graph_dict[\"graph\"].edge_label_index\n",
        "        adj = edgeindex_to_sparsematrix(graph_dict[\"graph\"])\n",
        "        x = self.convs1(x, edge_indices=adj)\n",
        "        x = deepsnap.hetero_gnn.forward_op(x, self.bns1)\n",
        "        x = deepsnap.hetero_gnn.forward_op(x, self.relus1)\n",
        "        x = self.convs2(x, edge_indices=adj)\n",
        "        x = deepsnap.hetero_gnn.forward_op(x, self.bns2)\n",
        "        #my_debug(f\"Output x shape: {x.shape}\")\n",
        "        x = deepsnap.hetero_gnn.forward_op(x, self.relus2)\n",
        "        #x = forward_op(x, self.post_mps)\n",
        "\n",
        "        pred = {}\n",
        "        for message_type in edge_label_index:\n",
        "            my_debug(f\"{len(edge_label_index[message_type][0])}\")\n",
        "            src_type = message_type[0]\n",
        "            trg_type = message_type[2]\n",
        "            nodes_first = torch.index_select(x[src_type], 0, edge_label_index[message_type][0,:].long())\n",
        "            nodes_second = torch.index_select(x[trg_type], 0, edge_label_index[message_type][1,:].long())\n",
        "            my_debug(f\"Multiplying shapes {nodes_first.shape}, {nodes_second.shape}\")\n",
        "            pred[message_type] = torch.sum(nodes_first * nodes_second, dim=-1)\n",
        "            my_debug(f\"Pred shape {pred[message_type].shape}\")\n",
        "        return pred\n",
        "\n",
        "    def loss(self, pred, y):\n",
        "        loss = 0\n",
        "        for key in pred:\n",
        "            p = torch.sigmoid(pred[key])\n",
        "            loss += self.loss_fn(p, y[key].type(pred[key].dtype))\n",
        "        return loss"
      ],
      "metadata": {
        "id": "QqVw_uB4ryT0"
      },
      "execution_count": 3,
      "outputs": []
    },
    {
      "cell_type": "markdown",
      "source": [
        "# Preprocesamiento del dataset"
      ],
      "metadata": {
        "id": "ECs63Gy2dIT6"
      }
    },
    {
      "cell_type": "code",
      "source": [
        "node_data = pd.read_csv(\"/content/graph_node_table.csv\", index_col=0)\n",
        "edge_data = pd.read_csv(\"/content/graph_edge_table.csv\",index_col=0).rename(columns={\"relation\":\"edge_type\"})"
      ],
      "metadata": {
        "colab": {
          "base_uri": "https://localhost:8080/"
        },
        "id": "kkRxNATbrZXz",
        "outputId": "a8489120-9bf3-4d3b-9c6b-254dcdb14b31"
      },
      "execution_count": 4,
      "outputs": [
        {
          "output_type": "stream",
          "name": "stderr",
          "text": [
            "/usr/local/lib/python3.7/dist-packages/IPython/core/interactiveshell.py:2882: DtypeWarning: Columns (4,5) have mixed types.Specify dtype option on import or set low_memory=False.\n",
            "  exec(code_obj, self.user_global_ns, self.user_ns)\n"
          ]
        }
      ]
    },
    {
      "cell_type": "code",
      "source": [
        "D = nx.from_pandas_edgelist(edge_data,source=\"a_idx\",target=\"b_idx\", edge_attr=\"edge_type\", create_using=nx.DiGraph)\n",
        "nx.set_node_attributes(D,pd.Series(node_data.node_type, index=node_data.node_idx).to_dict(),\"node_type\")\n",
        "nx.set_node_attributes(D,pd.Series(node_data.node_name, index=node_data.node_idx).to_dict(),\"node_name\")\n",
        "\n",
        "#G = nx.to_undirected(D)\n",
        "G = D\n",
        "\n",
        "node_id = 5\n",
        "print(f\"Node {node_id} has properties:\", G.nodes(data=True)[node_id])\n",
        "# %%\n",
        "edges = list(G.edges())\n",
        "edge_idx = 123456\n",
        "n1 = edges[edge_idx][0]\n",
        "n2 = edges[edge_idx][1]\n",
        "edge = list(G.edges(data=True))[edge_idx]\n",
        "print(f\"Edge ({edge[0]}, {edge[1]}) has properties:\", edge[2])\n",
        "print(f\"Node {n1} has properties:\", G.nodes(data=True)[n1])\n",
        "print(f\"Node {n2} has properties:\", G.nodes(data=True)[n2])\n",
        "#%%\n",
        "G_deepsnap = HeteroGraph(G)\n",
        "G_deepsnap.edge_types\n",
        "G_deepsnap.message_types\n",
        "G_deepsnap.node_types\n",
        "G_deepsnap.num_nodes()\n",
        "G_deepsnap.num_edges()\n",
        "list(G.edges(data=True))[0]"
      ],
      "metadata": {
        "colab": {
          "base_uri": "https://localhost:8080/"
        },
        "id": "RSYIXytLrkD5",
        "outputId": "46e03440-9f31-4284-cba1-4cf9692351fb"
      },
      "execution_count": 5,
      "outputs": [
        {
          "output_type": "stream",
          "name": "stdout",
          "text": [
            "Node 5 has properties: {'node_type': 'gene/protein', 'node_name': 'SERPINA3'}\n",
            "Edge (4873, 15076) has properties: {'edge_type': 'GDA'}\n",
            "Node 4873 has properties: {'node_type': 'gene/protein', 'node_name': 'IQSEC1'}\n",
            "Node 15076 has properties: {'node_type': 'disease', 'node_name': 'Short stature'}\n"
          ]
        },
        {
          "output_type": "execute_result",
          "data": {
            "text/plain": [
              "(1839, 14989, {'edge_type': 'GDA'})"
            ]
          },
          "metadata": {},
          "execution_count": 5
        }
      ]
    },
    {
      "cell_type": "code",
      "source": [
        "node_feature = torch.ones(5)\n",
        "nx.set_node_attributes(G, node_feature, 'node_feature')\n",
        "hete = HeteroGraph(G)\n",
        "task = 'link_pred'\n",
        "dataset = GraphDataset([hete], task=task, edge_train_mode=\"all\")\n",
        "dataset_train, dataset_val, dataset_test = dataset.split(transductive=True, split_ratio=[0.4, 0.3, 0.3])"
      ],
      "metadata": {
        "colab": {
          "base_uri": "https://localhost:8080/"
        },
        "id": "asQoc7HSr3Wu",
        "outputId": "a3634075-a9d9-400e-835e-778ac4cc96ec"
      },
      "execution_count": 6,
      "outputs": [
        {
          "output_type": "stream",
          "name": "stderr",
          "text": [
            "/usr/local/lib/python3.7/dist-packages/deepsnap/hetero_graph.py:3142: UserWarning: __floordiv__ is deprecated, and its behavior will change in a future version of pytorch. It currently rounds toward 0 (like the 'trunc' function NOT 'floor'). This results in incorrect rounding for negative values. To keep the current behavior, use torch.div(a, b, rounding_mode='trunc'), or for actual floor division, use torch.div(a, b, rounding_mode='floor').\n",
            "  col[message_type] = perm[message_type] // num_nodes[head_type]\n",
            "/usr/local/lib/python3.7/dist-packages/deepsnap/hetero_graph.py:3138: UserWarning: __floordiv__ is deprecated, and its behavior will change in a future version of pytorch. It currently rounds toward 0 (like the 'trunc' function NOT 'floor'). This results in incorrect rounding for negative values. To keep the current behavior, use torch.div(a, b, rounding_mode='trunc'), or for actual floor division, use torch.div(a, b, rounding_mode='floor').\n",
            "  row[message_type] = perm[message_type] // num_nodes[tail_type]\n"
          ]
        }
      ]
    },
    {
      "cell_type": "markdown",
      "source": [
        "# Funciones de entrenamiento y evaluación"
      ],
      "metadata": {
        "id": "4xtdovjbdN36"
      }
    },
    {
      "cell_type": "code",
      "source": [
        "def train(model, optimizer, graph_dict, printb):\n",
        "    model.train()\n",
        "    optimizer.zero_grad()\n",
        "    preds = model(graph_dict)\n",
        "    loss = model.loss(preds, graph_dict[\"graph\"].edge_label)\n",
        "    loss.backward()\n",
        "    optimizer.step()\n",
        "    if printb:\n",
        "        print(loss.item())\n",
        "    return loss.item()\n",
        "\n",
        "\n",
        "# Test function\n",
        "def test(model, graph_dict, args):\n",
        "    model.eval()\n",
        "    accs = {}\n",
        "    for mode, dataset in graph_dict.items():\n",
        "        acc = 0\n",
        "        num = 0\n",
        "        pred = model(dataset)\n",
        "        for key in pred:\n",
        "            p = torch.sigmoid(pred[key]).cpu().detach().numpy()\n",
        "            pred_label = np.zeros_like(p, dtype=np.int64)\n",
        "            pred_label[np.where(p > 0.5)[0]] = 1\n",
        "            pred_label[np.where(p <= 0.5)[0]] = 0\n",
        "            acc += np.sum(pred_label == dataset[\"graph\"].edge_label[key].cpu().numpy())\n",
        "            num += len(pred_label)\n",
        "        accs[mode] = acc / num\n",
        "    return accs\n"
      ],
      "metadata": {
        "id": "j4Y6Ixugr0tj"
      },
      "execution_count": 7,
      "outputs": []
    },
    {
      "cell_type": "markdown",
      "source": [
        "# Entrenamiento"
      ],
      "metadata": {
        "id": "bg0Wm9reditL"
      }
    },
    {
      "cell_type": "code",
      "source": [
        "args = {\n",
        "    'device': torch.device('cuda' if torch.cuda.is_available() else 'cpu'),\n",
        "    'hidden_size': 32,\n",
        "    'weight_decay': 1e-5,\n",
        "    'lr': 0.003,\n",
        "}\n",
        "\n",
        "datasets = {\"train\":dataset_train, \"val\":dataset_val, \"test\":dataset_test}\n",
        "sparse_dict = {title:{\"graph\":dataset[0].to(args[\"device\"]), \"adj\":[]} for title,dataset in datasets.items()}\n",
        "fullgraph_sparse_dict = {\"graph\":hete, \"adj\":[]}\n",
        "\n",
        "model = HeteroGNN(fullgraph_sparse_dict, args, aggr=\"mean\").to(args[\"device\"])\n",
        "optimizer = torch.optim.Adam(model.parameters(), lr=args['lr'], weight_decay=args['weight_decay'])"
      ],
      "metadata": {
        "id": "beTv40jSr_SJ",
        "colab": {
          "base_uri": "https://localhost:8080/"
        },
        "outputId": "28a25ab6-531e-45df-a672-6ef6f18f840f"
      },
      "execution_count": 8,
      "outputs": [
        {
          "output_type": "stream",
          "name": "stderr",
          "text": [
            "/usr/local/lib/python3.7/dist-packages/deepsnap/hetero_graph.py:3142: UserWarning: __floordiv__ is deprecated, and its behavior will change in a future version of pytorch. It currently rounds toward 0 (like the 'trunc' function NOT 'floor'). This results in incorrect rounding for negative values. To keep the current behavior, use torch.div(a, b, rounding_mode='trunc'), or for actual floor division, use torch.div(a, b, rounding_mode='floor').\n",
            "  col[message_type] = perm[message_type] // num_nodes[head_type]\n",
            "/usr/local/lib/python3.7/dist-packages/deepsnap/hetero_graph.py:3138: UserWarning: __floordiv__ is deprecated, and its behavior will change in a future version of pytorch. It currently rounds toward 0 (like the 'trunc' function NOT 'floor'). This results in incorrect rounding for negative values. To keep the current behavior, use torch.div(a, b, rounding_mode='trunc'), or for actual floor division, use torch.div(a, b, rounding_mode='floor').\n",
            "  row[message_type] = perm[message_type] // num_nodes[tail_type]\n"
          ]
        }
      ]
    },
    {
      "cell_type": "code",
      "source": [
        "model"
      ],
      "metadata": {
        "colab": {
          "base_uri": "https://localhost:8080/"
        },
        "id": "61kYn4i_Zpue",
        "outputId": "d2aed461-8991-4e18-fe3d-d8b51f91e7c0"
      },
      "execution_count": 9,
      "outputs": [
        {
          "output_type": "execute_result",
          "data": {
            "text/plain": [
              "HeteroGNN(\n",
              "  (bns1): ModuleDict(\n",
              "    (gene/protein): BatchNorm1d(32, eps=1e-05, momentum=0.1, affine=True, track_running_stats=True)\n",
              "    (disease): BatchNorm1d(32, eps=1e-05, momentum=0.1, affine=True, track_running_stats=True)\n",
              "    (protein_complex): BatchNorm1d(32, eps=1e-05, momentum=0.1, affine=True, track_running_stats=True)\n",
              "  )\n",
              "  (bns2): ModuleDict(\n",
              "    (gene/protein): BatchNorm1d(32, eps=1e-05, momentum=0.1, affine=True, track_running_stats=True)\n",
              "    (disease): BatchNorm1d(32, eps=1e-05, momentum=0.1, affine=True, track_running_stats=True)\n",
              "    (protein_complex): BatchNorm1d(32, eps=1e-05, momentum=0.1, affine=True, track_running_stats=True)\n",
              "  )\n",
              "  (relus1): ModuleDict(\n",
              "    (gene/protein): LeakyReLU(negative_slope=0.01)\n",
              "    (disease): LeakyReLU(negative_slope=0.01)\n",
              "    (protein_complex): LeakyReLU(negative_slope=0.01)\n",
              "  )\n",
              "  (relus2): ModuleDict(\n",
              "    (gene/protein): LeakyReLU(negative_slope=0.01)\n",
              "    (disease): LeakyReLU(negative_slope=0.01)\n",
              "    (protein_complex): LeakyReLU(negative_slope=0.01)\n",
              "  )\n",
              "  (loss_fn): BCEWithLogitsLoss()\n",
              "  (convs1): HeteroGNNWrapperConv(\n",
              "    (modules): ModuleList(\n",
              "      (0): HeteroGNNConv()\n",
              "      (1): HeteroGNNConv()\n",
              "      (2): HeteroGNNConv()\n",
              "      (3): HeteroGNNConv()\n",
              "    )\n",
              "  )\n",
              "  (convs2): HeteroGNNWrapperConv(\n",
              "    (modules): ModuleList(\n",
              "      (0): HeteroGNNConv()\n",
              "      (1): HeteroGNNConv()\n",
              "      (2): HeteroGNNConv()\n",
              "      (3): HeteroGNNConv()\n",
              "    )\n",
              "  )\n",
              ")"
            ]
          },
          "metadata": {},
          "execution_count": 9
        }
      ]
    },
    {
      "cell_type": "code",
      "source": [
        "loss_plot = []\n",
        "epochs = 2000\n",
        "for epoch in range(epochs):\n",
        "    if epoch%10 == 0:\n",
        "       loss = train(model,optimizer,sparse_dict[\"train\"],printb=True)\n",
        "    else:\n",
        "        loss = train(model,optimizer,sparse_dict[\"train\"],printb=False)\n",
        "    loss_plot.append(loss)\n",
        "\n",
        "plt.plot(np.arange(len(loss_plot)),loss_plot)"
      ],
      "metadata": {
        "colab": {
          "base_uri": "https://localhost:8080/",
          "height": 1000
        },
        "id": "enAuSbO9sB-r",
        "outputId": "ce9dbd10-2f7b-4a72-a802-afcc9ea328f0"
      },
      "execution_count": 10,
      "outputs": [
        {
          "output_type": "stream",
          "name": "stdout",
          "text": [
            "3.142920970916748\n",
            "2.955369710922241\n",
            "2.8683598041534424\n",
            "2.8561649322509766\n",
            "2.85170316696167\n",
            "2.849128007888794\n",
            "2.8462040424346924\n",
            "2.8436973094940186\n",
            "2.8411848545074463\n",
            "2.8389668464660645\n",
            "2.836660861968994\n",
            "2.8342134952545166\n",
            "2.8314638137817383\n",
            "2.82920503616333\n",
            "2.8265910148620605\n",
            "2.8238422870635986\n",
            "2.821122407913208\n",
            "2.818341016769409\n",
            "2.8156137466430664\n",
            "2.8126869201660156\n",
            "2.809678792953491\n",
            "2.8067221641540527\n",
            "2.8036134243011475\n",
            "2.800494909286499\n",
            "2.797459602355957\n",
            "2.7943553924560547\n",
            "2.791100025177002\n",
            "2.7878284454345703\n",
            "2.7838354110717773\n",
            "2.7798280715942383\n",
            "2.7765989303588867\n",
            "2.7732510566711426\n",
            "2.770289659500122\n",
            "2.766963243484497\n",
            "2.7636094093322754\n",
            "2.760321855545044\n",
            "2.7570395469665527\n",
            "2.7540647983551025\n",
            "2.750687837600708\n",
            "2.7474594116210938\n",
            "2.7442448139190674\n",
            "2.7411715984344482\n",
            "2.738152027130127\n",
            "2.7352757453918457\n",
            "2.7321951389312744\n",
            "2.729226589202881\n",
            "2.726356029510498\n",
            "2.7234904766082764\n",
            "2.720677614212036\n",
            "2.717956304550171\n",
            "2.7154531478881836\n",
            "2.712733745574951\n",
            "2.7102246284484863\n",
            "2.7077643871307373\n",
            "2.7053258419036865\n",
            "2.7028799057006836\n",
            "2.700566291809082\n",
            "2.698422908782959\n",
            "2.696298837661743\n",
            "2.6940884590148926\n",
            "2.6919665336608887\n",
            "2.689980983734131\n",
            "2.6880242824554443\n",
            "2.6861777305603027\n",
            "2.684347152709961\n",
            "2.6825079917907715\n",
            "2.680629253387451\n",
            "2.6790404319763184\n",
            "2.6775453090667725\n",
            "2.6758534908294678\n",
            "2.674330949783325\n",
            "2.672844886779785\n",
            "2.671285629272461\n",
            "2.6699485778808594\n",
            "2.6686220169067383\n",
            "2.667274236679077\n",
            "2.665891170501709\n",
            "2.6646111011505127\n",
            "2.6634457111358643\n",
            "2.6620919704437256\n",
            "2.6610586643218994\n",
            "2.6600279808044434\n",
            "2.658848762512207\n",
            "2.6576905250549316\n",
            "2.656721830368042\n",
            "2.655428886413574\n",
            "2.6541748046875\n",
            "2.6532609462738037\n",
            "2.6524107456207275\n",
            "2.6514883041381836\n",
            "2.650646686553955\n",
            "2.6496338844299316\n",
            "2.6487631797790527\n",
            "2.6478168964385986\n",
            "2.647040605545044\n",
            "2.6461620330810547\n",
            "2.6454296112060547\n",
            "2.6447298526763916\n",
            "2.6439177989959717\n",
            "2.6433115005493164\n",
            "2.642505645751953\n",
            "2.641939878463745\n",
            "2.641310214996338\n",
            "2.640516757965088\n",
            "2.6398653984069824\n",
            "2.6392734050750732\n",
            "2.6386232376098633\n",
            "2.638212203979492\n",
            "2.637606620788574\n",
            "2.6370744705200195\n",
            "2.636388063430786\n",
            "2.6360106468200684\n",
            "2.635340690612793\n",
            "2.6348538398742676\n",
            "2.6343462467193604\n",
            "2.633978843688965\n",
            "2.6333937644958496\n",
            "2.632951259613037\n",
            "2.632520914077759\n",
            "2.63204288482666\n",
            "2.6317079067230225\n",
            "2.631223440170288\n",
            "2.630861282348633\n",
            "2.630500078201294\n",
            "2.6301169395446777\n",
            "2.6296846866607666\n",
            "2.6293368339538574\n",
            "2.628931999206543\n",
            "2.628554344177246\n",
            "2.6282804012298584\n",
            "2.627880334854126\n",
            "2.6275107860565186\n",
            "2.627211093902588\n",
            "2.626864433288574\n",
            "2.626664638519287\n",
            "2.626300811767578\n",
            "2.6260297298431396\n",
            "2.6256988048553467\n",
            "2.6255316734313965\n",
            "2.625204563140869\n",
            "2.6249613761901855\n",
            "2.6246275901794434\n",
            "2.624427318572998\n",
            "2.6241061687469482\n",
            "2.6238741874694824\n",
            "2.6235828399658203\n",
            "2.623373508453369\n",
            "2.6231112480163574\n",
            "2.6229677200317383\n",
            "2.622753858566284\n",
            "2.622502326965332\n",
            "2.6222455501556396\n",
            "2.6220157146453857\n",
            "2.621819019317627\n",
            "2.6215662956237793\n",
            "2.6214182376861572\n",
            "2.6211912631988525\n",
            "2.620980978012085\n",
            "2.620786428451538\n",
            "2.6205787658691406\n",
            "2.6204142570495605\n",
            "2.62033748626709\n",
            "2.6201400756835938\n",
            "2.6201534271240234\n",
            "2.619860887527466\n",
            "2.6197166442871094\n",
            "2.619523763656616\n",
            "2.6193110942840576\n",
            "2.6190671920776367\n",
            "2.619013547897339\n",
            "2.6188125610351562\n",
            "2.6185975074768066\n",
            "2.6184768676757812\n",
            "2.6183724403381348\n",
            "2.61818528175354\n",
            "2.6180286407470703\n",
            "2.617924213409424\n",
            "2.6177425384521484\n",
            "2.617584228515625\n",
            "2.617319345474243\n",
            "2.61715030670166\n",
            "2.616802930831909\n",
            "2.61674427986145\n",
            "2.616968870162964\n",
            "2.616952419281006\n",
            "2.616429328918457\n",
            "2.616461753845215\n",
            "2.6165761947631836\n",
            "2.6163668632507324\n",
            "2.615968704223633\n",
            "2.6159534454345703\n",
            "2.6157281398773193\n",
            "2.615553140640259\n",
            "2.620420455932617\n",
            "2.617900848388672\n",
            "2.6175663471221924\n",
            "2.616856575012207\n",
            "2.6162545680999756\n",
            "2.6157448291778564\n",
            "2.6154699325561523\n"
          ]
        },
        {
          "output_type": "execute_result",
          "data": {
            "text/plain": [
              "[<matplotlib.lines.Line2D at 0x7fe785add790>]"
            ]
          },
          "metadata": {},
          "execution_count": 10
        },
        {
          "output_type": "display_data",
          "data": {
            "text/plain": [
              "<Figure size 432x288 with 1 Axes>"
            ],
            "image/png": "[encoded data removed]"
          },
          "metadata": {
            "needs_background": "light"
          }
        }
      ]
    },
    {
      "cell_type": "code",
      "source": [
        "p = model(sparse_dict[\"val\"])\n",
        "prediction = {edgetype:torch.round(torch.sigmoid(pred)) for edgetype,pred in p.items()}\n",
        "ground_truth = dataset_val[0].edge_label\n",
        "\n",
        "test(model,sparse_dict,args)"
      ],
      "metadata": {
        "colab": {
          "base_uri": "https://localhost:8080/"
        },
        "id": "tZN1kLFUsG1G",
        "outputId": "678e7aaf-dd8b-431d-fc1b-73759afe57a2"
      },
      "execution_count": 11,
      "outputs": [
        {
          "output_type": "execute_result",
          "data": {
            "text/plain": [
              "{'test': 0.6604004393848611,\n",
              " 'train': 0.7115044330640102,\n",
              " 'val': 0.6716266992897}"
            ]
          },
          "metadata": {},
          "execution_count": 11
        }
      ]
    }
  ]
}