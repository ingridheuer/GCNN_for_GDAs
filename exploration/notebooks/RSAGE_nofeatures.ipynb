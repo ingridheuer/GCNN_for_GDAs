{
  "nbformat": 4,
  "nbformat_minor": 0,
  "metadata": {
    "colab": {
      "name": "RSAGE_nofeatures.ipynb",
      "provenance": [],
      "collapsed_sections": [
        "ECs63Gy2dIT6",
        "4xtdovjbdN36"
      ],
      "authorship_tag": "ABX9TyMeDjEdHvvoYvUG1gOYpCgg",
      "include_colab_link": true
    },
    "kernelspec": {
      "name": "python3",
      "display_name": "Python 3"
    },
    "language_info": {
      "name": "python"
    },
    "gpuClass": "standard"
  },
  "cells": [
    {
      "cell_type": "markdown",
      "metadata": {
        "id": "view-in-github",
        "colab_type": "text"
      },
      "source": [
        "<a href=\"https://colab.research.google.com/github/ingridheuer/GCNN_for_GDAs/blob/main/exploration/notebooks/RSAGE_nofeatures.ipynb\" target=\"_parent\"><img src=\"https://colab.research.google.com/assets/colab-badge.svg\" alt=\"Open In Colab\"/></a>"
      ]
    },
    {
      "cell_type": "markdown",
      "source": [
        "# Instalo e importo librerias"
      ],
      "metadata": {
        "id": "mdb7qExpc564"
      }
    },
    {
      "cell_type": "code",
      "source": [
        "import torch\n",
        "print(torch.__version__)\n",
        "!pip install torch-scatter torch-sparse -f https://data.pyg.org/whl/torch-{torch.__version__}.html\n",
        "!pip install -q git+https://github.com/pyg-team/pytorch_geometric.git\n",
        "!pip install -q git+https://github.com/snap-stanford/deepsnap.git"
      ],
      "metadata": {
        "id": "GTfcOHHYtk9w",
        "colab": {
          "base_uri": "https://localhost:8080/"
        },
        "outputId": "f6dc9dbf-faa5-47e8-a808-fb70e5d1672b"
      },
      "execution_count": 2,
      "outputs": [
        {
          "output_type": "stream",
          "name": "stdout",
          "text": [
            "1.11.0+cu113\n",
            "Looking in indexes: https://pypi.org/simple, https://us-python.pkg.dev/colab-wheels/public/simple/\n",
            "Looking in links: https://data.pyg.org/whl/torch-1.11.0+cu113.html\n",
            "Requirement already satisfied: torch-scatter in /usr/local/lib/python3.7/dist-packages (2.0.9)\n",
            "Requirement already satisfied: torch-sparse in /usr/local/lib/python3.7/dist-packages (0.6.13)\n",
            "Requirement already satisfied: scipy in /usr/local/lib/python3.7/dist-packages (from torch-sparse) (1.4.1)\n",
            "Requirement already satisfied: numpy>=1.13.3 in /usr/local/lib/python3.7/dist-packages (from scipy->torch-sparse) (1.21.6)\n"
          ]
        }
      ]
    },
    {
      "cell_type": "code",
      "execution_count": 3,
      "metadata": {
        "id": "0dg9JyPWqzOA"
      },
      "outputs": [],
      "source": [
        "#Librería base de redes neuronales de torch\n",
        "#Acá están las clases \"base\" de las que heredan todos los modelos\n",
        "import torch.nn as nn\n",
        "\n",
        "#Operaciones entre sparse matrix\n",
        "from torch_sparse import matmul, SparseTensor\n",
        "\n",
        "#Librerías específicas de GNNs: \n",
        "#PYG es la libraría general de GNNs,\n",
        "#DeepSNAP tiene utilidades para el manejo de datos y grafos heterogeneos, hacer splits, negative sampling, etc.\n",
        "import torch_geometric.nn as pyg_nn\n",
        "from torch_geometric.nn import HeteroConv\n",
        "from deepsnap.dataset import GraphDataset\n",
        "import deepsnap.hetero_gnn\n",
        "from deepsnap.hetero_gnn import forward_op\n",
        "from deepsnap.hetero_graph import HeteroGraph\n",
        "from torch_geometric.utils import to_undirected\n",
        "import torch.nn.functional as F\n",
        "#from torch_geometric.data import HeteroData\n",
        "\n",
        "#Para manejar los minibatches\n",
        "from torch.utils.data import DataLoader\n",
        "from deepsnap.batch import Batch\n",
        "\n",
        "from timeit import default_timer as timer\n",
        "import numpy as np\n",
        "import networkx as nx\n",
        "import matplotlib.pyplot as plt\n",
        "import pandas as pd\n",
        "import copy"
      ]
    },
    {
      "cell_type": "markdown",
      "source": [
        "# Modelo"
      ],
      "metadata": {
        "id": "HU-IKGyKdD3M"
      }
    },
    {
      "cell_type": "code",
      "source": [
        "class distmult_head(torch.nn.Module):\n",
        "  def __init__(self, hetero_graph, hidden_size):\n",
        "    super().__init__()\n",
        "    self.R_weights = torch.nn.ParameterDict()\n",
        "\n",
        "    for edge_type in hetero_graph.edge_types:\n",
        "      self.R_weights[edge_type] = torch.nn.Parameter(torch.rand(hidden_size,hidden_size)*0.01)\n",
        "  \n",
        "  def score(self,x,edge_label_index):\n",
        "    scores = {}\n",
        "    for message_type in edge_label_index:\n",
        "      src_type,edge_type,trg_type = message_type[0], message_type[1], message_type[2]\n",
        "      rel_weights = self.R_weights[edge_type]\n",
        "      nodes_left = torch.index_select(x[src_type], 0, edge_label_index[message_type][0,:].long())\n",
        "      nodes_right = torch.index_select(x[trg_type], 0, edge_label_index[message_type][1,:].long())\n",
        "      #temp_product = torch.matmul(nodes_right,rel_weights)\n",
        "      #final_product = torch.matmul(temp_product,torch.transpose(nodes_left,0,1))\n",
        "      #mid_product = torch.matmul()\n",
        "      mid_product = nodes_right@rel_weights\n",
        "      #print(mid_product)\n",
        "      scores[message_type] = torch.sum(mid_product@torch.t(nodes_left) , dim=-1)\n",
        "    #print(scores)\n",
        "    return scores"
      ],
      "metadata": {
        "id": "ZrBr2Zy3Itmu"
      },
      "execution_count": 74,
      "outputs": []
    },
    {
      "cell_type": "code",
      "source": [
        "def edgeindex_to_sparsematrix(het_graph: HeteroGraph) -> dict : \n",
        "    sparse_edge_dict = {}\n",
        "    for key in het_graph.edge_index:\n",
        "        temp_edge_index = het_graph.edge_index[key]\n",
        "        from_type = key[0]\n",
        "        to_type = key[2]\n",
        "        adj = SparseTensor(row=temp_edge_index[0], col=temp_edge_index[1], sparse_sizes=(het_graph.num_nodes(from_type), het_graph.num_nodes(to_type)))\n",
        "        sparse_edge_dict[key] = adj.t()\n",
        "    return sparse_edge_dict\n",
        "\n",
        "# %%\n",
        "debugging = False\n",
        "\n",
        "def my_debug(arg):\n",
        "    if debugging:\n",
        "        print(arg)\n",
        "#%%\n",
        "#OLD DICT STYLE\n",
        "class HeteroGNNConv(pyg_nn.MessagePassing):\n",
        "    def __init__(self, in_channels_src, in_channels_dst, out_channels):\n",
        "        super().__init__(aggr=\"mean\")\n",
        "\n",
        "        self.in_channels_src = in_channels_src\n",
        "        self.in_channels_dst = in_channels_dst\n",
        "        self.out_channels = out_channels\n",
        "        self.lin_dst = torch.nn.Linear(in_channels_dst, out_channels)\n",
        "        self.lin_src = torch.nn.Linear(in_channels_src, out_channels)\n",
        "        self.lin_update = torch.nn.Linear(2*out_channels, out_channels)\n",
        "\n",
        "    def forward(\n",
        "            self,\n",
        "            node_feature_src,\n",
        "            node_feature_dst,\n",
        "            edge_index,\n",
        "            size=None):\n",
        "\n",
        "        out = self.propagate(\n",
        "            edge_index, size, node_feature_src=node_feature_src, node_feature_dst=node_feature_dst)\n",
        "        return out\n",
        "\n",
        "    def message_and_aggregate(self, edge_index, node_feature_src):\n",
        "        out = matmul(edge_index, node_feature_src, reduce=self.aggr)\n",
        "        #my_debug(f'message_and_agregate out: {out}')\n",
        "\n",
        "        return out\n",
        "\n",
        "    def update(self, aggr_out, node_feature_dst):\n",
        "\n",
        "        dst_msg = self.lin_dst(node_feature_dst)\n",
        "        src_msg = self.lin_src(aggr_out)\n",
        "        full_msg = torch.concat((dst_msg, src_msg), dim=1)\n",
        "        out = self.lin_update(full_msg)\n",
        "        #my_debug(f'update out: {out}')\n",
        "        return out\n",
        "\n",
        "\n",
        "class HeteroGNNWrapperConv(deepsnap.hetero_gnn.HeteroConv):\n",
        "    def __init__(self, convs, args, aggr=\"mean\"):\n",
        "        super().__init__(convs, None)\n",
        "        self.aggr = aggr\n",
        "\n",
        "        # Map the index and message type\n",
        "        self.mapping = {}\n",
        "\n",
        "    def reset_parameters(self):\n",
        "        super().reset_parameters()\n",
        "\n",
        "    def forward(self, node_features, edge_indices):\n",
        "        message_type_emb = {}\n",
        "        #my_debug(f'Wrapper self convs: {self.convs}')\n",
        "        for message_key, message_type in edge_indices.items():\n",
        "            src_type, edge_type, dst_type = message_key\n",
        "            # my_debug(message_key)\n",
        "            # my_debug(node_features.shape)\n",
        "            #my_debug(f\"Input x shape: {node_features.shape}\")\n",
        "            #my_debug(f'Wrapper self conv step: {self.convs[message_key]}')\n",
        "            node_feature_src = node_features[src_type]\n",
        "            node_feature_dst = node_features[dst_type]\n",
        "            edge_index = edge_indices[message_key]\n",
        "            #my_debug(f'Wrapper message_type_emb step: {self.convs[message_key](node_feature_src,node_feature_dst,edge_index)}')\n",
        "            message_type_emb[message_key] = (\n",
        "                self.convs[message_key](\n",
        "                    node_feature_src,\n",
        "                    node_feature_dst,\n",
        "                    edge_index,\n",
        "                )\n",
        "            )\n",
        "            #my_debug(f'{message_key} emb done: {message_type_emb}')\n",
        "        node_emb = {dst: [] for _, _, dst in message_type_emb.keys()}\n",
        "        #my_debug(f'node emb: {node_emb}')\n",
        "        mapping = {}\n",
        "        for (src, edge_type, dst), item in message_type_emb.items():\n",
        "            mapping[len(node_emb[dst])] = (src, edge_type, dst)\n",
        "            node_emb[dst].append(item)\n",
        "        self.mapping = mapping\n",
        "        for node_type, embs in node_emb.items():\n",
        "            if len(embs) == 1:\n",
        "                node_emb[node_type] = embs[0]\n",
        "            else:\n",
        "                node_emb[node_type] = self.aggregate(embs)\n",
        "        #my_debug(f'node_emb from wrapper conv forward:{node_emb}')\n",
        "        return node_emb\n",
        "\n",
        "    def aggregate(self, xs):\n",
        "        return torch.mean(torch.stack(xs), dim=0)\n",
        "\n",
        "\n",
        "def generate_convs(hetero_graph, conv, hidden_size, first_layer=False):\n",
        "    convs = {}\n",
        "\n",
        "    msg_types = hetero_graph.message_types\n",
        "    for key in msg_types:\n",
        "        if first_layer:\n",
        "            dst_feature_dim = hetero_graph.num_node_features(key[2])\n",
        "            src_feature_dim = hetero_graph.num_node_features(key[0])\n",
        "            convs[key] = conv(src_feature_dim, dst_feature_dim, hidden_size)\n",
        "        else:\n",
        "            convs[key] = conv(hidden_size, hidden_size, hidden_size)\n",
        "\n",
        "    return convs\n",
        "\n",
        "\n",
        "class HeteroGNN(torch.nn.Module):\n",
        "    def __init__(self, hetero_graph, head, args, aggr=\"mean\"):\n",
        "        super().__init__()\n",
        "\n",
        "        #hetero_graph = hetero_graph_dict[\"graph\"]\n",
        "        self.aggr = aggr\n",
        "        self.head = head\n",
        "        self.hidden_size = args['hidden_size']\n",
        "        self.bns1 = torch.nn.ModuleDict()\n",
        "        self.bns2 = torch.nn.ModuleDict()\n",
        "        self.relus1 = torch.nn.ModuleDict()\n",
        "        self.relus2 = torch.nn.ModuleDict()\n",
        "        self.loss_fn = torch.nn.BCEWithLogitsLoss()\n",
        "        self.distmult_head = distmult_head(hetero_graph,self.hidden_size)\n",
        "        #self.post_mps = nn.ModuleDict()\n",
        "\n",
        "        convs1 = generate_convs(hetero_graph, HeteroGNNConv, self.hidden_size, first_layer=True)\n",
        "        #my_debug(f'convs1: {convs1}')\n",
        "        convs2 = generate_convs(hetero_graph, HeteroGNNConv, self.hidden_size, first_layer=False)\n",
        "        self.convs1 = HeteroGNNWrapperConv(convs1, args, aggr=self.aggr)\n",
        "        #my_debug(f'self.convs1: {self.convs1}')\n",
        "        self.convs2 = HeteroGNNWrapperConv(convs2, args, aggr=self.aggr)\n",
        "        for node_type in hetero_graph.node_types:\n",
        "            self.bns1[node_type] = torch.nn.BatchNorm1d(self.hidden_size)\n",
        "            self.bns2[node_type] = torch.nn.BatchNorm1d(self.hidden_size)\n",
        "            self.relus1[node_type] = torch.nn.LeakyReLU()\n",
        "            self.relus2[node_type] = torch.nn.LeakyReLU()\n",
        "\n",
        "    def forward(self, graph):\n",
        "        #x, adj, edge_label_index = graph_dict[\"graph\"].node_feature, graph_dict[\"adj\"], graph_dict[\"graph\"].edge_label_index\n",
        "        #x,edge_label_index = graph_dict[\"graph\"].node_feature, graph_dict[\"graph\"].edge_label_index\n",
        "        #adj = edgeindex_to_sparsematrix(graph_dict[\"graph\"])\n",
        "        x, edge_label_index = graph.node_feature, graph.edge_label_index\n",
        "        adj = edgeindex_to_sparsematrix(graph)\n",
        "        x = self.convs1(x, edge_indices=adj)\n",
        "        x = deepsnap.hetero_gnn.forward_op(x, self.bns1)\n",
        "        x = deepsnap.hetero_gnn.forward_op(x, self.relus1)\n",
        "        x = self.convs2(x, edge_indices=adj)\n",
        "        x = deepsnap.hetero_gnn.forward_op(x, self.bns2)\n",
        "        #my_debug(f\"Output x shape: {x.shape}\")\n",
        "        #x = deepsnap.hetero_gnn.forward_op(x, self.relus2)\n",
        "        #x = forward_op(x, self.post_mps)\n",
        "\n",
        "\n",
        "        if self.head == \"dotprod\":\n",
        "          pred = {}\n",
        "          for message_type in edge_label_index:\n",
        "              my_debug(f\"{len(edge_label_index[message_type][0])}\")\n",
        "              src_type = message_type[0]\n",
        "              trg_type = message_type[2]\n",
        "              nodes_first = torch.index_select(x[src_type], 0, edge_label_index[message_type][0,:].long())\n",
        "              nodes_second = torch.index_select(x[trg_type], 0, edge_label_index[message_type][1,:].long())\n",
        "              my_debug(f\"Multiplying shapes {nodes_first.shape}, {nodes_second.shape}\")\n",
        "              pred[message_type] = torch.sum(nodes_first * nodes_second, dim=-1)\n",
        "              my_debug(f\"Pred shape {pred[message_type].shape}\")\n",
        "          return pred\n",
        "        elif self.head == \"distmult\":\n",
        "          return self.distmult_head.score(x,edge_label_index)\n",
        "          \n",
        "    def loss(self, pred, y):\n",
        "        loss = 0\n",
        "        for key in pred:\n",
        "            p = torch.sigmoid(pred[key])\n",
        "            loss += self.loss_fn(p, y[key].type(pred[key].dtype))\n",
        "        return loss"
      ],
      "metadata": {
        "id": "QqVw_uB4ryT0"
      },
      "execution_count": 75,
      "outputs": []
    },
    {
      "cell_type": "markdown",
      "source": [
        "# Preprocesamiento del dataset"
      ],
      "metadata": {
        "id": "ECs63Gy2dIT6"
      }
    },
    {
      "cell_type": "code",
      "source": [
        "node_data = pd.read_csv(\"/content/graph_node_table.csv\", index_col=0)\n",
        "edge_data = pd.read_csv(\"/content/graph_edge_table.csv\",index_col=0).rename(columns={\"relation\":\"edge_type\"})"
      ],
      "metadata": {
        "colab": {
          "base_uri": "https://localhost:8080/"
        },
        "id": "kkRxNATbrZXz",
        "outputId": "c499be4b-df84-40bb-8ced-849ad665eb98"
      },
      "execution_count": 6,
      "outputs": [
        {
          "output_type": "stream",
          "name": "stderr",
          "text": [
            "/usr/local/lib/python3.7/dist-packages/IPython/core/interactiveshell.py:2882: DtypeWarning: Columns (4,5) have mixed types.Specify dtype option on import or set low_memory=False.\n",
            "  exec(code_obj, self.user_global_ns, self.user_ns)\n"
          ]
        }
      ]
    },
    {
      "cell_type": "code",
      "source": [
        "display(node_data.head())\n",
        "display(edge_data.head())"
      ],
      "metadata": {
        "colab": {
          "base_uri": "https://localhost:8080/",
          "height": 0
        },
        "id": "pPawjMZ_pxUI",
        "outputId": "620ce3d1-d964-41bc-f93a-92ffffa42198"
      },
      "execution_count": 7,
      "outputs": [
        {
          "output_type": "display_data",
          "data": {
            "text/plain": [
              "   node_idx node_id     node_type node_name node_source\n",
              "1         1       1  gene/protein      A1BG    disgenet\n",
              "2         2       2  gene/protein       A2M    disgenet\n",
              "3         3       9  gene/protein      NAT1    disgenet\n",
              "4         4      10  gene/protein      NAT2    disgenet\n",
              "5         5      12  gene/protein  SERPINA3    disgenet"
            ],
            "text/html": [
              "\n",
              "  <div id=\"df-63980f33-0295-492f-afd4-243ef48096d5\">\n",
              "    <div class=\"colab-df-container\">\n",
              "      <div>\n",
              "<style scoped>\n",
              "    .dataframe tbody tr th:only-of-type {\n",
              "        vertical-align: middle;\n",
              "    }\n",
              "\n",
              "    .dataframe tbody tr th {\n",
              "        vertical-align: top;\n",
              "    }\n",
              "\n",
              "    .dataframe thead th {\n",
              "        text-align: right;\n",
              "    }\n",
              "</style>\n",
              "<table border=\"1\" class=\"dataframe\">\n",
              "  <thead>\n",
              "    <tr style=\"text-align: right;\">\n",
              "      <th></th>\n",
              "      <th>node_idx</th>\n",
              "      <th>node_id</th>\n",
              "      <th>node_type</th>\n",
              "      <th>node_name</th>\n",
              "      <th>node_source</th>\n",
              "    </tr>\n",
              "  </thead>\n",
              "  <tbody>\n",
              "    <tr>\n",
              "      <th>1</th>\n",
              "      <td>1</td>\n",
              "      <td>1</td>\n",
              "      <td>gene/protein</td>\n",
              "      <td>A1BG</td>\n",
              "      <td>disgenet</td>\n",
              "    </tr>\n",
              "    <tr>\n",
              "      <th>2</th>\n",
              "      <td>2</td>\n",
              "      <td>2</td>\n",
              "      <td>gene/protein</td>\n",
              "      <td>A2M</td>\n",
              "      <td>disgenet</td>\n",
              "    </tr>\n",
              "    <tr>\n",
              "      <th>3</th>\n",
              "      <td>3</td>\n",
              "      <td>9</td>\n",
              "      <td>gene/protein</td>\n",
              "      <td>NAT1</td>\n",
              "      <td>disgenet</td>\n",
              "    </tr>\n",
              "    <tr>\n",
              "      <th>4</th>\n",
              "      <td>4</td>\n",
              "      <td>10</td>\n",
              "      <td>gene/protein</td>\n",
              "      <td>NAT2</td>\n",
              "      <td>disgenet</td>\n",
              "    </tr>\n",
              "    <tr>\n",
              "      <th>5</th>\n",
              "      <td>5</td>\n",
              "      <td>12</td>\n",
              "      <td>gene/protein</td>\n",
              "      <td>SERPINA3</td>\n",
              "      <td>disgenet</td>\n",
              "    </tr>\n",
              "  </tbody>\n",
              "</table>\n",
              "</div>\n",
              "      <button class=\"colab-df-convert\" onclick=\"convertToInteractive('df-63980f33-0295-492f-afd4-243ef48096d5')\"\n",
              "              title=\"Convert this dataframe to an interactive table.\"\n",
              "              style=\"display:none;\">\n",
              "        \n",
              "  <svg xmlns=\"http://www.w3.org/2000/svg\" height=\"24px\"viewBox=\"0 0 24 24\"\n",
              "       width=\"24px\">\n",
              "    <path d=\"M0 0h24v24H0V0z\" fill=\"none\"/>\n",
              "    <path d=\"M18.56 5.44l.94 2.06.94-2.06 2.06-.94-2.06-.94-.94-2.06-.94 2.06-2.06.94zm-11 1L8.5 8.5l.94-2.06 2.06-.94-2.06-.94L8.5 2.5l-.94 2.06-2.06.94zm10 10l.94 2.06.94-2.06 2.06-.94-2.06-.94-.94-2.06-.94 2.06-2.06.94z\"/><path d=\"M17.41 7.96l-1.37-1.37c-.4-.4-.92-.59-1.43-.59-.52 0-1.04.2-1.43.59L10.3 9.45l-7.72 7.72c-.78.78-.78 2.05 0 2.83L4 21.41c.39.39.9.59 1.41.59.51 0 1.02-.2 1.41-.59l7.78-7.78 2.81-2.81c.8-.78.8-2.07 0-2.86zM5.41 20L4 18.59l7.72-7.72 1.47 1.35L5.41 20z\"/>\n",
              "  </svg>\n",
              "      </button>\n",
              "      \n",
              "  <style>\n",
              "    .colab-df-container {\n",
              "      display:flex;\n",
              "      flex-wrap:wrap;\n",
              "      gap: 12px;\n",
              "    }\n",
              "\n",
              "    .colab-df-convert {\n",
              "      background-color: #E8F0FE;\n",
              "      border: none;\n",
              "      border-radius: 50%;\n",
              "      cursor: pointer;\n",
              "      display: none;\n",
              "      fill: #1967D2;\n",
              "      height: 32px;\n",
              "      padding: 0 0 0 0;\n",
              "      width: 32px;\n",
              "    }\n",
              "\n",
              "    .colab-df-convert:hover {\n",
              "      background-color: #E2EBFA;\n",
              "      box-shadow: 0px 1px 2px rgba(60, 64, 67, 0.3), 0px 1px 3px 1px rgba(60, 64, 67, 0.15);\n",
              "      fill: #174EA6;\n",
              "    }\n",
              "\n",
              "    [theme=dark] .colab-df-convert {\n",
              "      background-color: #3B4455;\n",
              "      fill: #D2E3FC;\n",
              "    }\n",
              "\n",
              "    [theme=dark] .colab-df-convert:hover {\n",
              "      background-color: #434B5C;\n",
              "      box-shadow: 0px 1px 3px 1px rgba(0, 0, 0, 0.15);\n",
              "      filter: drop-shadow(0px 1px 2px rgba(0, 0, 0, 0.3));\n",
              "      fill: #FFFFFF;\n",
              "    }\n",
              "  </style>\n",
              "\n",
              "      <script>\n",
              "        const buttonEl =\n",
              "          document.querySelector('#df-63980f33-0295-492f-afd4-243ef48096d5 button.colab-df-convert');\n",
              "        buttonEl.style.display =\n",
              "          google.colab.kernel.accessAllowed ? 'block' : 'none';\n",
              "\n",
              "        async function convertToInteractive(key) {\n",
              "          const element = document.querySelector('#df-63980f33-0295-492f-afd4-243ef48096d5');\n",
              "          const dataTable =\n",
              "            await google.colab.kernel.invokeFunction('convertToInteractive',\n",
              "                                                     [key], {});\n",
              "          if (!dataTable) return;\n",
              "\n",
              "          const docLinkHtml = 'Like what you see? Visit the ' +\n",
              "            '<a target=\"_blank\" href=https://colab.research.google.com/notebooks/data_table.ipynb>data table notebook</a>'\n",
              "            + ' to learn more about interactive tables.';\n",
              "          element.innerHTML = '';\n",
              "          dataTable['output_type'] = 'display_data';\n",
              "          await google.colab.output.renderOutput(dataTable, element);\n",
              "          const docLink = document.createElement('div');\n",
              "          docLink.innerHTML = docLinkHtml;\n",
              "          element.appendChild(docLink);\n",
              "        }\n",
              "      </script>\n",
              "    </div>\n",
              "  </div>\n",
              "  "
            ]
          },
          "metadata": {}
        },
        {
          "output_type": "display_data",
          "data": {
            "text/plain": [
              "   edge_idx  a_idx  b_idx   a_id      b_id edge_type        a_type   b_type  \\\n",
              "1         1   1839  14989   3440  C0000737       GDA  gene/protein  disease   \n",
              "2         2   2389  15912   4547  C0000744       GDA  gene/protein  disease   \n",
              "3         3   5236  10506  10683  C0000768       GDA  gene/protein  disease   \n",
              "4         4    724  10506   1295  C0000768       GDA  gene/protein  disease   \n",
              "5         5    741  10506   1317  C0000768       GDA  gene/protein  disease   \n",
              "\n",
              "     source  source_idx  \n",
              "1  disgenet       26518  \n",
              "2  disgenet       34865  \n",
              "3  disgenet       63589  \n",
              "4  disgenet       11121  \n",
              "5  disgenet       11360  "
            ],
            "text/html": [
              "\n",
              "  <div id=\"df-9c7f879d-6a72-40f8-af91-15f9c8ed91a7\">\n",
              "    <div class=\"colab-df-container\">\n",
              "      <div>\n",
              "<style scoped>\n",
              "    .dataframe tbody tr th:only-of-type {\n",
              "        vertical-align: middle;\n",
              "    }\n",
              "\n",
              "    .dataframe tbody tr th {\n",
              "        vertical-align: top;\n",
              "    }\n",
              "\n",
              "    .dataframe thead th {\n",
              "        text-align: right;\n",
              "    }\n",
              "</style>\n",
              "<table border=\"1\" class=\"dataframe\">\n",
              "  <thead>\n",
              "    <tr style=\"text-align: right;\">\n",
              "      <th></th>\n",
              "      <th>edge_idx</th>\n",
              "      <th>a_idx</th>\n",
              "      <th>b_idx</th>\n",
              "      <th>a_id</th>\n",
              "      <th>b_id</th>\n",
              "      <th>edge_type</th>\n",
              "      <th>a_type</th>\n",
              "      <th>b_type</th>\n",
              "      <th>source</th>\n",
              "      <th>source_idx</th>\n",
              "    </tr>\n",
              "  </thead>\n",
              "  <tbody>\n",
              "    <tr>\n",
              "      <th>1</th>\n",
              "      <td>1</td>\n",
              "      <td>1839</td>\n",
              "      <td>14989</td>\n",
              "      <td>3440</td>\n",
              "      <td>C0000737</td>\n",
              "      <td>GDA</td>\n",
              "      <td>gene/protein</td>\n",
              "      <td>disease</td>\n",
              "      <td>disgenet</td>\n",
              "      <td>26518</td>\n",
              "    </tr>\n",
              "    <tr>\n",
              "      <th>2</th>\n",
              "      <td>2</td>\n",
              "      <td>2389</td>\n",
              "      <td>15912</td>\n",
              "      <td>4547</td>\n",
              "      <td>C0000744</td>\n",
              "      <td>GDA</td>\n",
              "      <td>gene/protein</td>\n",
              "      <td>disease</td>\n",
              "      <td>disgenet</td>\n",
              "      <td>34865</td>\n",
              "    </tr>\n",
              "    <tr>\n",
              "      <th>3</th>\n",
              "      <td>3</td>\n",
              "      <td>5236</td>\n",
              "      <td>10506</td>\n",
              "      <td>10683</td>\n",
              "      <td>C0000768</td>\n",
              "      <td>GDA</td>\n",
              "      <td>gene/protein</td>\n",
              "      <td>disease</td>\n",
              "      <td>disgenet</td>\n",
              "      <td>63589</td>\n",
              "    </tr>\n",
              "    <tr>\n",
              "      <th>4</th>\n",
              "      <td>4</td>\n",
              "      <td>724</td>\n",
              "      <td>10506</td>\n",
              "      <td>1295</td>\n",
              "      <td>C0000768</td>\n",
              "      <td>GDA</td>\n",
              "      <td>gene/protein</td>\n",
              "      <td>disease</td>\n",
              "      <td>disgenet</td>\n",
              "      <td>11121</td>\n",
              "    </tr>\n",
              "    <tr>\n",
              "      <th>5</th>\n",
              "      <td>5</td>\n",
              "      <td>741</td>\n",
              "      <td>10506</td>\n",
              "      <td>1317</td>\n",
              "      <td>C0000768</td>\n",
              "      <td>GDA</td>\n",
              "      <td>gene/protein</td>\n",
              "      <td>disease</td>\n",
              "      <td>disgenet</td>\n",
              "      <td>11360</td>\n",
              "    </tr>\n",
              "  </tbody>\n",
              "</table>\n",
              "</div>\n",
              "      <button class=\"colab-df-convert\" onclick=\"convertToInteractive('df-9c7f879d-6a72-40f8-af91-15f9c8ed91a7')\"\n",
              "              title=\"Convert this dataframe to an interactive table.\"\n",
              "              style=\"display:none;\">\n",
              "        \n",
              "  <svg xmlns=\"http://www.w3.org/2000/svg\" height=\"24px\"viewBox=\"0 0 24 24\"\n",
              "       width=\"24px\">\n",
              "    <path d=\"M0 0h24v24H0V0z\" fill=\"none\"/>\n",
              "    <path d=\"M18.56 5.44l.94 2.06.94-2.06 2.06-.94-2.06-.94-.94-2.06-.94 2.06-2.06.94zm-11 1L8.5 8.5l.94-2.06 2.06-.94-2.06-.94L8.5 2.5l-.94 2.06-2.06.94zm10 10l.94 2.06.94-2.06 2.06-.94-2.06-.94-.94-2.06-.94 2.06-2.06.94z\"/><path d=\"M17.41 7.96l-1.37-1.37c-.4-.4-.92-.59-1.43-.59-.52 0-1.04.2-1.43.59L10.3 9.45l-7.72 7.72c-.78.78-.78 2.05 0 2.83L4 21.41c.39.39.9.59 1.41.59.51 0 1.02-.2 1.41-.59l7.78-7.78 2.81-2.81c.8-.78.8-2.07 0-2.86zM5.41 20L4 18.59l7.72-7.72 1.47 1.35L5.41 20z\"/>\n",
              "  </svg>\n",
              "      </button>\n",
              "      \n",
              "  <style>\n",
              "    .colab-df-container {\n",
              "      display:flex;\n",
              "      flex-wrap:wrap;\n",
              "      gap: 12px;\n",
              "    }\n",
              "\n",
              "    .colab-df-convert {\n",
              "      background-color: #E8F0FE;\n",
              "      border: none;\n",
              "      border-radius: 50%;\n",
              "      cursor: pointer;\n",
              "      display: none;\n",
              "      fill: #1967D2;\n",
              "      height: 32px;\n",
              "      padding: 0 0 0 0;\n",
              "      width: 32px;\n",
              "    }\n",
              "\n",
              "    .colab-df-convert:hover {\n",
              "      background-color: #E2EBFA;\n",
              "      box-shadow: 0px 1px 2px rgba(60, 64, 67, 0.3), 0px 1px 3px 1px rgba(60, 64, 67, 0.15);\n",
              "      fill: #174EA6;\n",
              "    }\n",
              "\n",
              "    [theme=dark] .colab-df-convert {\n",
              "      background-color: #3B4455;\n",
              "      fill: #D2E3FC;\n",
              "    }\n",
              "\n",
              "    [theme=dark] .colab-df-convert:hover {\n",
              "      background-color: #434B5C;\n",
              "      box-shadow: 0px 1px 3px 1px rgba(0, 0, 0, 0.15);\n",
              "      filter: drop-shadow(0px 1px 2px rgba(0, 0, 0, 0.3));\n",
              "      fill: #FFFFFF;\n",
              "    }\n",
              "  </style>\n",
              "\n",
              "      <script>\n",
              "        const buttonEl =\n",
              "          document.querySelector('#df-9c7f879d-6a72-40f8-af91-15f9c8ed91a7 button.colab-df-convert');\n",
              "        buttonEl.style.display =\n",
              "          google.colab.kernel.accessAllowed ? 'block' : 'none';\n",
              "\n",
              "        async function convertToInteractive(key) {\n",
              "          const element = document.querySelector('#df-9c7f879d-6a72-40f8-af91-15f9c8ed91a7');\n",
              "          const dataTable =\n",
              "            await google.colab.kernel.invokeFunction('convertToInteractive',\n",
              "                                                     [key], {});\n",
              "          if (!dataTable) return;\n",
              "\n",
              "          const docLinkHtml = 'Like what you see? Visit the ' +\n",
              "            '<a target=\"_blank\" href=https://colab.research.google.com/notebooks/data_table.ipynb>data table notebook</a>'\n",
              "            + ' to learn more about interactive tables.';\n",
              "          element.innerHTML = '';\n",
              "          dataTable['output_type'] = 'display_data';\n",
              "          await google.colab.output.renderOutput(dataTable, element);\n",
              "          const docLink = document.createElement('div');\n",
              "          docLink.innerHTML = docLinkHtml;\n",
              "          element.appendChild(docLink);\n",
              "        }\n",
              "      </script>\n",
              "    </div>\n",
              "  </div>\n",
              "  "
            ]
          },
          "metadata": {}
        }
      ]
    },
    {
      "cell_type": "code",
      "source": [
        "def init_node_features(G, mode, size):\n",
        "  if mode == \"ones\":\n",
        "    feature = torch.ones(size)\n",
        "    nx.set_node_attributes(G, feature, 'node_feature')\n",
        "  elif mode == \"random\":\n",
        "    feature_dict = {}\n",
        "    for node in list(G.nodes()):\n",
        "      feature_dict[node] = torch.rand(size)\n",
        "    nx.set_node_attributes(G,feature_dict,'node_feature')"
      ],
      "metadata": {
        "id": "3Gas8JfPxBFP"
      },
      "execution_count": 8,
      "outputs": []
    },
    {
      "cell_type": "code",
      "source": [
        "D = nx.from_pandas_edgelist(edge_data,source=\"a_idx\",target=\"b_idx\", edge_attr=\"edge_type\")\n",
        "nx.set_node_attributes(D,pd.Series(node_data.node_type, index=node_data.node_idx).to_dict(),\"node_type\")\n",
        "nx.set_node_attributes(D,pd.Series(node_data.node_name, index=node_data.node_idx).to_dict(),\"node_name\")\n",
        "\n",
        "#G = nx.to_undirected(D)\n",
        "G = D.to_directed()\n",
        "G2 = D.to_directed()\n",
        "init_node_features(G,\"random\",5)\n",
        "init_node_features(G2,\"ones\",5)\n",
        "\n",
        "node_id = 5\n",
        "print(f\"Node {node_id} has properties:\", G.nodes(data=True)[node_id])\n",
        "edges = list(G.edges())\n",
        "edge_idx = 123456\n",
        "n1 = edges[edge_idx][0]\n",
        "n2 = edges[edge_idx][1]\n",
        "edge = list(G.edges(data=True))[edge_idx]\n",
        "print(f\"Edge ({edge[0]}, {edge[1]}) has properties:\", edge[2])\n",
        "print(f\"Node {n1} has properties:\", G.nodes(data=True)[n1])\n",
        "print(f\"Node {n2} has properties:\", G.nodes(data=True)[n2])"
      ],
      "metadata": {
        "colab": {
          "base_uri": "https://localhost:8080/"
        },
        "id": "RSYIXytLrkD5",
        "outputId": "4687a1c9-fcfb-450d-a73b-e7ad30577ce0"
      },
      "execution_count": 9,
      "outputs": [
        {
          "output_type": "stream",
          "name": "stdout",
          "text": [
            "Node 5 has properties: {'node_type': 'gene/protein', 'node_name': 'SERPINA3', 'node_feature': tensor([0.6996, 0.5829, 0.7873, 0.0616, 0.2939])}\n",
            "Edge (2725, 21665) has properties: {'edge_type': 'PPI'}\n",
            "Node 2725 has properties: {'node_type': 'gene/protein', 'node_name': 'PDPK1', 'node_feature': tensor([0.9346, 0.1108, 0.9556, 0.2857, 0.6095])}\n",
            "Node 21665 has properties: {'node_type': 'gene/protein', 'node_name': 'CDC37_HUMAN', 'node_feature': tensor([0.4408, 0.8606, 0.3119, 0.8060, 0.4422])}\n"
          ]
        }
      ]
    },
    {
      "cell_type": "code",
      "source": [
        "Hete = HeteroGraph(G)\n",
        "Hete2 = HeteroGraph(G2)\n",
        "print(Hete.edge_types)\n",
        "print(Hete.message_types)\n",
        "print(Hete.node_types)\n",
        "print(Hete.num_nodes())\n",
        "print(Hete.num_edges())"
      ],
      "metadata": {
        "colab": {
          "base_uri": "https://localhost:8080/"
        },
        "id": "aLtSzQK_pGq0",
        "outputId": "99eac4c5-45e3-480f-9c97-955332f34a69"
      },
      "execution_count": 10,
      "outputs": [
        {
          "output_type": "stream",
          "name": "stdout",
          "text": [
            "['forms_complex', 'GDA', 'PPI', 'parent_child_mondo']\n",
            "[('gene/protein', 'GDA', 'disease'), ('gene/protein', 'PPI', 'gene/protein'), ('disease', 'GDA', 'gene/protein'), ('disease', 'parent_child_mondo', 'disease'), ('gene/protein', 'forms_complex', 'protein_complex'), ('protein_complex', 'forms_complex', 'gene/protein')]\n",
            "['gene/protein', 'disease', 'protein_complex']\n",
            "{'gene/protein': 16672, 'disease': 18548, 'protein_complex': 422}\n",
            "{('gene/protein', 'GDA', 'disease'): 84038, ('gene/protein', 'PPI', 'gene/protein'): 294970, ('disease', 'GDA', 'gene/protein'): 84038, ('disease', 'parent_child_mondo', 'disease'): 30419, ('gene/protein', 'forms_complex', 'protein_complex'): 1888, ('protein_complex', 'forms_complex', 'gene/protein'): 1888}\n"
          ]
        }
      ]
    },
    {
      "cell_type": "markdown",
      "source": [
        "# Funciones de entrenamiento y evaluación"
      ],
      "metadata": {
        "id": "4xtdovjbdN36"
      }
    },
    {
      "cell_type": "code",
      "source": [
        "def train(model, optimizer, graph, printb):\n",
        "    model.train()\n",
        "    optimizer.zero_grad()\n",
        "    preds = model(graph)\n",
        "    loss = model.loss(preds, graph.edge_label)\n",
        "    loss.backward()\n",
        "    optimizer.step()\n",
        "    if printb:\n",
        "        print(loss.item())\n",
        "    return loss.item()\n",
        "\n",
        "\n",
        "# Test function\n",
        "def test(model, splits_dict, args):\n",
        "    model.eval()\n",
        "    accs = {}\n",
        "    for mode, dataset in splits_dict.items():\n",
        "        acc = 0\n",
        "        num = 0\n",
        "        pred = model(dataset)\n",
        "        for key in pred:\n",
        "            p = torch.sigmoid(pred[key]).cpu().detach().numpy()\n",
        "            pred_label = np.zeros_like(p, dtype=np.int64)\n",
        "            pred_label[np.where(p > 0.5)[0]] = 1\n",
        "            pred_label[np.where(p <= 0.5)[0]] = 0\n",
        "            acc += np.sum(pred_label == dataset.edge_label[key].cpu().numpy())\n",
        "            num += len(pred_label)\n",
        "        accs[mode] = acc / num\n",
        "    return accs\n"
      ],
      "metadata": {
        "id": "j4Y6Ixugr0tj"
      },
      "execution_count": 11,
      "outputs": []
    },
    {
      "cell_type": "markdown",
      "source": [
        "# Entrenamiento"
      ],
      "metadata": {
        "id": "bg0Wm9reditL"
      }
    },
    {
      "cell_type": "code",
      "source": [
        "args = {\n",
        "    'device': torch.device('cuda' if torch.cuda.is_available() else 'cpu'),\n",
        "    'hidden_size': 32,\n",
        "    'weight_decay': 1e-5,\n",
        "    'lr': 0.01,\n",
        "}\n",
        "task = 'link_pred'\n",
        "train_mode = \"disjoint\"\n",
        "\n",
        "dataset = GraphDataset([Hete], task=task, edge_train_mode=train_mode)\n",
        "dataset_train, dataset_val, dataset_test = dataset.split(transductive=True, split_ratio=[0.4, 0.3, 0.3])\n",
        "splits = {\"train\":dataset_train[0].to(args[\"device\"]), \"val\":dataset_val[0].to(args[\"device\"]), \"test\":dataset_test[0].to(args[\"device\"])}"
      ],
      "metadata": {
        "colab": {
          "base_uri": "https://localhost:8080/"
        },
        "id": "-3ZFuJAjsJRk",
        "outputId": "a143b4bc-b0f6-4917-fc2c-cca327f6fbf0"
      },
      "execution_count": 12,
      "outputs": [
        {
          "output_type": "stream",
          "name": "stderr",
          "text": [
            "/usr/local/lib/python3.7/dist-packages/deepsnap/hetero_graph.py:3142: UserWarning: __floordiv__ is deprecated, and its behavior will change in a future version of pytorch. It currently rounds toward 0 (like the 'trunc' function NOT 'floor'). This results in incorrect rounding for negative values. To keep the current behavior, use torch.div(a, b, rounding_mode='trunc'), or for actual floor division, use torch.div(a, b, rounding_mode='floor').\n",
            "  col[message_type] = perm[message_type] // num_nodes[head_type]\n",
            "/usr/local/lib/python3.7/dist-packages/deepsnap/hetero_graph.py:3138: UserWarning: __floordiv__ is deprecated, and its behavior will change in a future version of pytorch. It currently rounds toward 0 (like the 'trunc' function NOT 'floor'). This results in incorrect rounding for negative values. To keep the current behavior, use torch.div(a, b, rounding_mode='trunc'), or for actual floor division, use torch.div(a, b, rounding_mode='floor').\n",
            "  row[message_type] = perm[message_type] // num_nodes[tail_type]\n"
          ]
        }
      ]
    },
    {
      "cell_type": "code",
      "source": [
        "model = HeteroGNN(Hete,\"distmult\", args, aggr=\"mean\",).to(args[\"device\"])\n",
        "optimizer = torch.optim.Adam(model.parameters(), lr=args['lr'], weight_decay=args['weight_decay'])"
      ],
      "metadata": {
        "id": "Fy7IUBwaYBni"
      },
      "execution_count": 76,
      "outputs": []
    },
    {
      "cell_type": "code",
      "source": [
        "model"
      ],
      "metadata": {
        "colab": {
          "base_uri": "https://localhost:8080/"
        },
        "id": "EVdeQHTcjgy8",
        "outputId": "c60efbb4-dd28-4a99-b808-3277d4f92ef6"
      },
      "execution_count": 72,
      "outputs": [
        {
          "output_type": "execute_result",
          "data": {
            "text/plain": [
              "HeteroGNN(\n",
              "  (bns1): ModuleDict(\n",
              "    (gene/protein): BatchNorm1d(32, eps=1e-05, momentum=0.1, affine=True, track_running_stats=True)\n",
              "    (disease): BatchNorm1d(32, eps=1e-05, momentum=0.1, affine=True, track_running_stats=True)\n",
              "    (protein_complex): BatchNorm1d(32, eps=1e-05, momentum=0.1, affine=True, track_running_stats=True)\n",
              "  )\n",
              "  (bns2): ModuleDict(\n",
              "    (gene/protein): BatchNorm1d(32, eps=1e-05, momentum=0.1, affine=True, track_running_stats=True)\n",
              "    (disease): BatchNorm1d(32, eps=1e-05, momentum=0.1, affine=True, track_running_stats=True)\n",
              "    (protein_complex): BatchNorm1d(32, eps=1e-05, momentum=0.1, affine=True, track_running_stats=True)\n",
              "  )\n",
              "  (relus1): ModuleDict(\n",
              "    (gene/protein): LeakyReLU(negative_slope=0.01)\n",
              "    (disease): LeakyReLU(negative_slope=0.01)\n",
              "    (protein_complex): LeakyReLU(negative_slope=0.01)\n",
              "  )\n",
              "  (relus2): ModuleDict(\n",
              "    (gene/protein): LeakyReLU(negative_slope=0.01)\n",
              "    (disease): LeakyReLU(negative_slope=0.01)\n",
              "    (protein_complex): LeakyReLU(negative_slope=0.01)\n",
              "  )\n",
              "  (loss_fn): BCEWithLogitsLoss()\n",
              "  (distmult_head): distmult_head(\n",
              "    (R_weights): ParameterDict(\n",
              "        (forms_complex): Parameter containing: [torch.FloatTensor of size 32x32]\n",
              "        (GDA): Parameter containing: [torch.FloatTensor of size 32x32]\n",
              "        (PPI): Parameter containing: [torch.FloatTensor of size 32x32]\n",
              "        (parent_child_mondo): Parameter containing: [torch.FloatTensor of size 32x32]\n",
              "    )\n",
              "  )\n",
              "  (convs1): HeteroGNNWrapperConv(\n",
              "    (modules): ModuleList(\n",
              "      (0): HeteroGNNConv()\n",
              "      (1): HeteroGNNConv()\n",
              "      (2): HeteroGNNConv()\n",
              "      (3): HeteroGNNConv()\n",
              "      (4): HeteroGNNConv()\n",
              "      (5): HeteroGNNConv()\n",
              "    )\n",
              "  )\n",
              "  (convs2): HeteroGNNWrapperConv(\n",
              "    (modules): ModuleList(\n",
              "      (0): HeteroGNNConv()\n",
              "      (1): HeteroGNNConv()\n",
              "      (2): HeteroGNNConv()\n",
              "      (3): HeteroGNNConv()\n",
              "      (4): HeteroGNNConv()\n",
              "      (5): HeteroGNNConv()\n",
              "    )\n",
              "  )\n",
              ")"
            ]
          },
          "metadata": {},
          "execution_count": 72
        }
      ]
    },
    {
      "cell_type": "code",
      "source": [
        "loss_plot = []\n",
        "epochs = 5\n",
        "for epoch in range(epochs):\n",
        "    if epoch%10 == 0:\n",
        "       loss = train(model,optimizer,splits[\"train\"],printb=True)\n",
        "    else:\n",
        "        loss = train(model,optimizer,splits[\"train\"],printb=False)\n",
        "    loss_plot.append(loss)\n",
        "\n",
        "plt.plot(np.arange(len(loss_plot)),loss_plot)"
      ],
      "metadata": {
        "colab": {
          "base_uri": "https://localhost:8080/",
          "height": 302
        },
        "id": "aFsmib58voq-",
        "outputId": "88268319-4103-456c-e375-0cb501604620"
      },
      "execution_count": 77,
      "outputs": [
        {
          "output_type": "stream",
          "name": "stdout",
          "text": [
            "4.5452752113342285\n"
          ]
        },
        {
          "output_type": "execute_result",
          "data": {
            "text/plain": [
              "[<matplotlib.lines.Line2D at 0x7f861fca80d0>]"
            ]
          },
          "metadata": {},
          "execution_count": 77
        },
        {
          "output_type": "display_data",
          "data": {
            "text/plain": [
              "<Figure size 432x288 with 1 Axes>"
            ],
            "image/png": "[encoded data removed]"
          },
          "metadata": {
            "needs_background": "light"
          }
        }
      ]
    },
    {
      "cell_type": "code",
      "source": [
        "test(model,splits,args)"
      ],
      "metadata": {
        "colab": {
          "base_uri": "https://localhost:8080/"
        },
        "id": "ysIpld_vvtnh",
        "outputId": "870de0bc-0ed0-4eb5-bdd3-4b70927cec63"
      },
      "execution_count": 24,
      "outputs": [
        {
          "output_type": "execute_result",
          "data": {
            "text/plain": [
              "{'test': 0.7153060814071969,\n",
              " 'train': 0.7269733534439417,\n",
              " 'val': 0.721227458604277}"
            ]
          },
          "metadata": {},
          "execution_count": 24
        }
      ]
    }
  ]
}